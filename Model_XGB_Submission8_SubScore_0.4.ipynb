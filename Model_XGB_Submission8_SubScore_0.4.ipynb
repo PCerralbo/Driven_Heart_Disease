{
 "cells": [
  {
   "cell_type": "markdown",
   "metadata": {},
   "source": [
    "# Submission score 0.4 (XGB model)\n",
    "\n",
    "A grans trets:\n",
    "1. No eliminem cap pacient (tot i que ho tenim preparat per fer proves eliminant pacient amb outlier de 500 de colesterol.\n",
    "2. Passarem un Scaler a les variables continues (excepte Age, tot i que es podria probar si cambia algo) de Min/Max\n",
    "3. Fem un dummies de les categoriques\n",
    "4. La variable Age la passem a catgeorica de forma manual (pendent provar de fer una standaritacio com la resta)\n",
    "5. Fem servir el model XGB per obtenir les features mes importants --> ens serveix a nivell indicatiu per comparar despres resultats amb Fetaure Engineering **X3**\n",
    "6. Fem FeatureEngineering (senzill : apliquem el Polynomial). Podriem fer algo mes? Provem diferents tipus.\n",
    "7. Fem feature selection, i obtenim resultats ajustant valor de threshold=0.01 (l'hem de posar a 0.009 per millorar).\n",
    "\n",
    "### que podriem fer per millorar?\n",
    "1. optimitzar model? Gridsearch?\n",
    "2. es poden provar variant del feature engineering?\n",
    "\n",
    "\n",
    "**Tests a fer submission: eliminar pacient 60, i posar el threshold a 0.009 --> dona un log_los de 0.26!!**"
   ]
  },
  {
   "cell_type": "code",
   "execution_count": 1,
   "metadata": {},
   "outputs": [],
   "source": [
    "# Import essentials\n",
    "import numpy as np # linear algebra\n",
    "import pandas as pd # data processing, CSV file I/O (e.g. pd.read_csv)\n",
    "import matplotlib.pyplot as plt\n",
    "import os\n",
    "import seaborn as sns\n",
    "import warnings\n",
    "\n",
    "warnings.filterwarnings('ignore')"
   ]
  },
  {
   "cell_type": "markdown",
   "metadata": {},
   "source": [
    "The train values, train labels and test values are in different datasets, **we will load evrything and merge it together in the same dataframe (with label = NaN for the test)**. In that way, all the treatment (means, outliers, ...) we do would be considering the entire dataset"
   ]
  },
  {
   "cell_type": "code",
   "execution_count": 2,
   "metadata": {},
   "outputs": [],
   "source": [
    "# load the csv\n",
    "train_values_df = pd.read_csv('train_values.csv') # Load the `train` file\n",
    "train_labels_df = pd.read_csv('train_labels.csv') # Load the `train` file\n",
    "test_values_df = pd.read_csv('test_values.csv') # Load the `train` file\n",
    "test_ids = test_values_df['patient_id']"
   ]
  },
  {
   "cell_type": "markdown",
   "metadata": {},
   "source": [
    "de l'analisi dels histogrames hem vist que hi havien dues variables amb algunes diferencies entre train i test set:\n",
    "1. serum_cholesterol_mg_per_dl\n",
    "2. oldpeak_eq_st_depression"
   ]
  },
  {
   "cell_type": "code",
   "execution_count": 3,
   "metadata": {},
   "outputs": [
    {
     "data": {
      "text/html": [
       "<div>\n",
       "<style scoped>\n",
       "    .dataframe tbody tr th:only-of-type {\n",
       "        vertical-align: middle;\n",
       "    }\n",
       "\n",
       "    .dataframe tbody tr th {\n",
       "        vertical-align: top;\n",
       "    }\n",
       "\n",
       "    .dataframe thead th {\n",
       "        text-align: right;\n",
       "    }\n",
       "</style>\n",
       "<table border=\"1\" class=\"dataframe\">\n",
       "  <thead>\n",
       "    <tr style=\"text-align: right;\">\n",
       "      <th></th>\n",
       "      <th>patient_id</th>\n",
       "      <th>slope_of_peak_exercise_st_segment</th>\n",
       "      <th>thal</th>\n",
       "      <th>resting_blood_pressure</th>\n",
       "      <th>chest_pain_type</th>\n",
       "      <th>num_major_vessels</th>\n",
       "      <th>fasting_blood_sugar_gt_120_mg_per_dl</th>\n",
       "      <th>resting_ekg_results</th>\n",
       "      <th>serum_cholesterol_mg_per_dl</th>\n",
       "      <th>oldpeak_eq_st_depression</th>\n",
       "      <th>sex</th>\n",
       "      <th>age</th>\n",
       "      <th>max_heart_rate_achieved</th>\n",
       "      <th>exercise_induced_angina</th>\n",
       "    </tr>\n",
       "  </thead>\n",
       "  <tbody>\n",
       "    <tr>\n",
       "      <th>60</th>\n",
       "      <td>rv6siv</td>\n",
       "      <td>2</td>\n",
       "      <td>reversible_defect</td>\n",
       "      <td>115</td>\n",
       "      <td>3</td>\n",
       "      <td>0</td>\n",
       "      <td>0</td>\n",
       "      <td>2</td>\n",
       "      <td>564</td>\n",
       "      <td>1.6</td>\n",
       "      <td>0</td>\n",
       "      <td>67</td>\n",
       "      <td>160</td>\n",
       "      <td>0</td>\n",
       "    </tr>\n",
       "  </tbody>\n",
       "</table>\n",
       "</div>"
      ],
      "text/plain": [
       "   patient_id  slope_of_peak_exercise_st_segment               thal  \\\n",
       "60     rv6siv                                  2  reversible_defect   \n",
       "\n",
       "    resting_blood_pressure  chest_pain_type  num_major_vessels  \\\n",
       "60                     115                3                  0   \n",
       "\n",
       "    fasting_blood_sugar_gt_120_mg_per_dl  resting_ekg_results  \\\n",
       "60                                     0                    2   \n",
       "\n",
       "    serum_cholesterol_mg_per_dl  oldpeak_eq_st_depression  sex  age  \\\n",
       "60                          564                       1.6    0   67   \n",
       "\n",
       "    max_heart_rate_achieved  exercise_induced_angina  \n",
       "60                      160                        0  "
      ]
     },
     "execution_count": 3,
     "metadata": {},
     "output_type": "execute_result"
    }
   ],
   "source": [
    "train_values_df[train_values_df['serum_cholesterol_mg_per_dl']>500]"
   ]
  },
  {
   "cell_type": "code",
   "execution_count": 4,
   "metadata": {},
   "outputs": [
    {
     "data": {
      "text/html": [
       "<div>\n",
       "<style scoped>\n",
       "    .dataframe tbody tr th:only-of-type {\n",
       "        vertical-align: middle;\n",
       "    }\n",
       "\n",
       "    .dataframe tbody tr th {\n",
       "        vertical-align: top;\n",
       "    }\n",
       "\n",
       "    .dataframe thead th {\n",
       "        text-align: right;\n",
       "    }\n",
       "</style>\n",
       "<table border=\"1\" class=\"dataframe\">\n",
       "  <thead>\n",
       "    <tr style=\"text-align: right;\">\n",
       "      <th></th>\n",
       "      <th>patient_id</th>\n",
       "      <th>slope_of_peak_exercise_st_segment</th>\n",
       "      <th>thal</th>\n",
       "      <th>resting_blood_pressure</th>\n",
       "      <th>chest_pain_type</th>\n",
       "      <th>num_major_vessels</th>\n",
       "      <th>fasting_blood_sugar_gt_120_mg_per_dl</th>\n",
       "      <th>resting_ekg_results</th>\n",
       "      <th>serum_cholesterol_mg_per_dl</th>\n",
       "      <th>oldpeak_eq_st_depression</th>\n",
       "      <th>sex</th>\n",
       "      <th>age</th>\n",
       "      <th>max_heart_rate_achieved</th>\n",
       "      <th>exercise_induced_angina</th>\n",
       "    </tr>\n",
       "  </thead>\n",
       "  <tbody>\n",
       "    <tr>\n",
       "      <th>140</th>\n",
       "      <td>noxsnw</td>\n",
       "      <td>3</td>\n",
       "      <td>reversible_defect</td>\n",
       "      <td>140</td>\n",
       "      <td>4</td>\n",
       "      <td>0</td>\n",
       "      <td>0</td>\n",
       "      <td>0</td>\n",
       "      <td>217</td>\n",
       "      <td>5.6</td>\n",
       "      <td>1</td>\n",
       "      <td>55</td>\n",
       "      <td>111</td>\n",
       "      <td>1</td>\n",
       "    </tr>\n",
       "    <tr>\n",
       "      <th>162</th>\n",
       "      <td>usnkhx</td>\n",
       "      <td>3</td>\n",
       "      <td>reversible_defect</td>\n",
       "      <td>160</td>\n",
       "      <td>4</td>\n",
       "      <td>3</td>\n",
       "      <td>0</td>\n",
       "      <td>2</td>\n",
       "      <td>164</td>\n",
       "      <td>6.2</td>\n",
       "      <td>0</td>\n",
       "      <td>62</td>\n",
       "      <td>145</td>\n",
       "      <td>0</td>\n",
       "    </tr>\n",
       "  </tbody>\n",
       "</table>\n",
       "</div>"
      ],
      "text/plain": [
       "    patient_id  slope_of_peak_exercise_st_segment               thal  \\\n",
       "140     noxsnw                                  3  reversible_defect   \n",
       "162     usnkhx                                  3  reversible_defect   \n",
       "\n",
       "     resting_blood_pressure  chest_pain_type  num_major_vessels  \\\n",
       "140                     140                4                  0   \n",
       "162                     160                4                  3   \n",
       "\n",
       "     fasting_blood_sugar_gt_120_mg_per_dl  resting_ekg_results  \\\n",
       "140                                     0                    0   \n",
       "162                                     0                    2   \n",
       "\n",
       "     serum_cholesterol_mg_per_dl  oldpeak_eq_st_depression  sex  age  \\\n",
       "140                          217                       5.6    1   55   \n",
       "162                          164                       6.2    0   62   \n",
       "\n",
       "     max_heart_rate_achieved  exercise_induced_angina  \n",
       "140                      111                        1  \n",
       "162                      145                        0  "
      ]
     },
     "execution_count": 4,
     "metadata": {},
     "output_type": "execute_result"
    }
   ],
   "source": [
    "train_values_df[train_values_df['oldpeak_eq_st_depression'] > 5]"
   ]
  },
  {
   "cell_type": "markdown",
   "metadata": {},
   "source": [
    "#### Provem d'eliminar pacients que te outlier amb serum de colesterol\n",
    "hauriem de mirar si eliminant el de oldpeak tb millorem algo"
   ]
  },
  {
   "cell_type": "markdown",
   "metadata": {},
   "source": [
    "train_values_df=train_values_df.drop([60])\n",
    "train_labels_df=train_labels_df.drop([60])"
   ]
  },
  {
   "cell_type": "markdown",
   "metadata": {},
   "source": [
    "merge and concat the dataframes in one (NaNs for the test label)"
   ]
  },
  {
   "cell_type": "code",
   "execution_count": 5,
   "metadata": {},
   "outputs": [],
   "source": [
    "heart_df= pd.concat([pd.merge(train_values_df, train_labels_df, on='patient_id'), test_values_df], sort=False)\n",
    "heart_df.head()\n",
    "\n",
    "#store the original dimensions\n",
    "len_train=train_values_df.shape[0]\n",
    "len_test=test_values_df.shape[0]"
   ]
  },
  {
   "cell_type": "markdown",
   "metadata": {},
   "source": [
    "Curiositat per l'edat, es veuen distribucions molt diferents?"
   ]
  },
  {
   "cell_type": "code",
   "execution_count": 6,
   "metadata": {},
   "outputs": [
    {
     "data": {
      "image/png": "[encoded data removed]",
      "text/plain": [
       "<Figure size 432x288 with 1 Axes>"
      ]
     },
     "metadata": {},
     "output_type": "display_data"
    }
   ],
   "source": [
    "heart_df.pivot(columns='heart_disease_present').age.plot(kind = 'hist', bins=10, stacked=True)\n",
    "plt.title('Age')\n",
    "plt.show()"
   ]
  },
  {
   "cell_type": "markdown",
   "metadata": {},
   "source": [
    "#### Pre-Processing: estandaritzem utilitzant el MinMaxScaler"
   ]
  },
  {
   "cell_type": "code",
   "execution_count": 7,
   "metadata": {},
   "outputs": [],
   "source": [
    "from sklearn import preprocessing\n",
    "min_max_scaler = preprocessing.MinMaxScaler()\n",
    "\n",
    "heart_df['serum_cholesterol_mg_per_dl'] = min_max_scaler.fit_transform( np.array(heart_df['serum_cholesterol_mg_per_dl'].values).reshape(-1,1))\n",
    "heart_df['max_heart_rate_achieved'] = min_max_scaler.fit_transform( np.array(heart_df['max_heart_rate_achieved'].values).reshape(-1,1))\n",
    "heart_df['oldpeak_eq_st_depression'] = min_max_scaler.fit_transform( np.array(heart_df['oldpeak_eq_st_depression'].values).reshape(-1,1))\n",
    "heart_df['resting_blood_pressure'] = min_max_scaler.fit_transform( np.array(heart_df['resting_blood_pressure'].values).reshape(-1,1))"
   ]
  },
  {
   "cell_type": "markdown",
   "metadata": {},
   "source": [
    "#### Categoritzem les edats\n",
    "Podriem probar de fer un MinMAx tb..."
   ]
  },
  {
   "cell_type": "code",
   "execution_count": 8,
   "metadata": {},
   "outputs": [
    {
     "data": {
      "text/plain": [
       "50-59    107\n",
       "60-69     74\n",
       "40-49     67\n",
       "30-39     11\n",
       "70-79     10\n",
       "20-29      1\n",
       "Name: AgeGroup, dtype: int64"
      ]
     },
     "execution_count": 8,
     "metadata": {},
     "output_type": "execute_result"
    }
   ],
   "source": [
    "# en aquest bloc definim una columna categoritzant les edats\n",
    "bins= [20,30,40,50,60,70,80]\n",
    "labels = ['20-29','30-39','40-49','50-59','60-69','70-79']\n",
    "heart_df['AgeGroup'] = pd.cut(heart_df['age'], bins=bins, labels=labels, right=False)\n",
    "del heart_df['age']\n",
    "pd.value_counts(heart_df['AgeGroup'])"
   ]
  },
  {
   "cell_type": "markdown",
   "metadata": {},
   "source": [
    "##### utilitzem funcio Dummies per resta variables i la nova d'age"
   ]
  },
  {
   "cell_type": "code",
   "execution_count": 9,
   "metadata": {},
   "outputs": [
    {
     "data": {
      "text/html": [
       "<div>\n",
       "<style scoped>\n",
       "    .dataframe tbody tr th:only-of-type {\n",
       "        vertical-align: middle;\n",
       "    }\n",
       "\n",
       "    .dataframe tbody tr th {\n",
       "        vertical-align: top;\n",
       "    }\n",
       "\n",
       "    .dataframe thead th {\n",
       "        text-align: right;\n",
       "    }\n",
       "</style>\n",
       "<table border=\"1\" class=\"dataframe\">\n",
       "  <thead>\n",
       "    <tr style=\"text-align: right;\">\n",
       "      <th></th>\n",
       "      <th>patient_id</th>\n",
       "      <th>resting_blood_pressure</th>\n",
       "      <th>serum_cholesterol_mg_per_dl</th>\n",
       "      <th>oldpeak_eq_st_depression</th>\n",
       "      <th>sex</th>\n",
       "      <th>max_heart_rate_achieved</th>\n",
       "      <th>heart_disease_present</th>\n",
       "      <th>AgeGroup_20-29</th>\n",
       "      <th>AgeGroup_30-39</th>\n",
       "      <th>AgeGroup_40-49</th>\n",
       "      <th>...</th>\n",
       "      <th>num_major_vessels_1</th>\n",
       "      <th>num_major_vessels_2</th>\n",
       "      <th>num_major_vessels_3</th>\n",
       "      <th>resting_ekg_results_0</th>\n",
       "      <th>resting_ekg_results_1</th>\n",
       "      <th>resting_ekg_results_2</th>\n",
       "      <th>exercise_induced_angina_0</th>\n",
       "      <th>exercise_induced_angina_1</th>\n",
       "      <th>fasting_blood_sugar_gt_120_mg_per_dl_0</th>\n",
       "      <th>fasting_blood_sugar_gt_120_mg_per_dl_1</th>\n",
       "    </tr>\n",
       "  </thead>\n",
       "  <tbody>\n",
       "    <tr>\n",
       "      <th>0</th>\n",
       "      <td>0z64un</td>\n",
       "      <td>0.320755</td>\n",
       "      <td>0.415525</td>\n",
       "      <td>0.000000</td>\n",
       "      <td>1</td>\n",
       "      <td>0.755725</td>\n",
       "      <td>0.0</td>\n",
       "      <td>0</td>\n",
       "      <td>0</td>\n",
       "      <td>1</td>\n",
       "      <td>...</td>\n",
       "      <td>0</td>\n",
       "      <td>0</td>\n",
       "      <td>0</td>\n",
       "      <td>0</td>\n",
       "      <td>0</td>\n",
       "      <td>1</td>\n",
       "      <td>1</td>\n",
       "      <td>0</td>\n",
       "      <td>1</td>\n",
       "      <td>0</td>\n",
       "    </tr>\n",
       "    <tr>\n",
       "      <th>1</th>\n",
       "      <td>ryoo3j</td>\n",
       "      <td>0.150943</td>\n",
       "      <td>0.200913</td>\n",
       "      <td>0.258065</td>\n",
       "      <td>0</td>\n",
       "      <td>0.664122</td>\n",
       "      <td>0.0</td>\n",
       "      <td>0</td>\n",
       "      <td>0</td>\n",
       "      <td>0</td>\n",
       "      <td>...</td>\n",
       "      <td>0</td>\n",
       "      <td>0</td>\n",
       "      <td>0</td>\n",
       "      <td>1</td>\n",
       "      <td>0</td>\n",
       "      <td>0</td>\n",
       "      <td>1</td>\n",
       "      <td>0</td>\n",
       "      <td>1</td>\n",
       "      <td>0</td>\n",
       "    </tr>\n",
       "    <tr>\n",
       "      <th>2</th>\n",
       "      <td>yt1s1x</td>\n",
       "      <td>0.292453</td>\n",
       "      <td>0.406393</td>\n",
       "      <td>0.000000</td>\n",
       "      <td>1</td>\n",
       "      <td>0.694656</td>\n",
       "      <td>1.0</td>\n",
       "      <td>0</td>\n",
       "      <td>0</td>\n",
       "      <td>0</td>\n",
       "      <td>...</td>\n",
       "      <td>0</td>\n",
       "      <td>0</td>\n",
       "      <td>1</td>\n",
       "      <td>0</td>\n",
       "      <td>0</td>\n",
       "      <td>1</td>\n",
       "      <td>0</td>\n",
       "      <td>1</td>\n",
       "      <td>1</td>\n",
       "      <td>0</td>\n",
       "    </tr>\n",
       "    <tr>\n",
       "      <th>3</th>\n",
       "      <td>l2xjde</td>\n",
       "      <td>0.547170</td>\n",
       "      <td>0.221461</td>\n",
       "      <td>0.000000</td>\n",
       "      <td>1</td>\n",
       "      <td>0.839695</td>\n",
       "      <td>1.0</td>\n",
       "      <td>0</td>\n",
       "      <td>0</td>\n",
       "      <td>1</td>\n",
       "      <td>...</td>\n",
       "      <td>0</td>\n",
       "      <td>0</td>\n",
       "      <td>0</td>\n",
       "      <td>1</td>\n",
       "      <td>0</td>\n",
       "      <td>0</td>\n",
       "      <td>1</td>\n",
       "      <td>0</td>\n",
       "      <td>1</td>\n",
       "      <td>0</td>\n",
       "    </tr>\n",
       "    <tr>\n",
       "      <th>4</th>\n",
       "      <td>oyt4ek</td>\n",
       "      <td>0.792453</td>\n",
       "      <td>0.328767</td>\n",
       "      <td>0.677419</td>\n",
       "      <td>1</td>\n",
       "      <td>0.564885</td>\n",
       "      <td>0.0</td>\n",
       "      <td>0</td>\n",
       "      <td>0</td>\n",
       "      <td>0</td>\n",
       "      <td>...</td>\n",
       "      <td>0</td>\n",
       "      <td>0</td>\n",
       "      <td>0</td>\n",
       "      <td>0</td>\n",
       "      <td>0</td>\n",
       "      <td>1</td>\n",
       "      <td>1</td>\n",
       "      <td>0</td>\n",
       "      <td>1</td>\n",
       "      <td>0</td>\n",
       "    </tr>\n",
       "  </tbody>\n",
       "</table>\n",
       "<p>5 rows × 34 columns</p>\n",
       "</div>"
      ],
      "text/plain": [
       "  patient_id  resting_blood_pressure  serum_cholesterol_mg_per_dl  \\\n",
       "0     0z64un                0.320755                     0.415525   \n",
       "1     ryoo3j                0.150943                     0.200913   \n",
       "2     yt1s1x                0.292453                     0.406393   \n",
       "3     l2xjde                0.547170                     0.221461   \n",
       "4     oyt4ek                0.792453                     0.328767   \n",
       "\n",
       "   oldpeak_eq_st_depression  sex  max_heart_rate_achieved  \\\n",
       "0                  0.000000    1                 0.755725   \n",
       "1                  0.258065    0                 0.664122   \n",
       "2                  0.000000    1                 0.694656   \n",
       "3                  0.000000    1                 0.839695   \n",
       "4                  0.677419    1                 0.564885   \n",
       "\n",
       "   heart_disease_present  AgeGroup_20-29  AgeGroup_30-39  AgeGroup_40-49  \\\n",
       "0                    0.0               0               0               1   \n",
       "1                    0.0               0               0               0   \n",
       "2                    1.0               0               0               0   \n",
       "3                    1.0               0               0               1   \n",
       "4                    0.0               0               0               0   \n",
       "\n",
       "                    ...                    num_major_vessels_1  \\\n",
       "0                   ...                                      0   \n",
       "1                   ...                                      0   \n",
       "2                   ...                                      0   \n",
       "3                   ...                                      0   \n",
       "4                   ...                                      0   \n",
       "\n",
       "   num_major_vessels_2  num_major_vessels_3  resting_ekg_results_0  \\\n",
       "0                    0                    0                      0   \n",
       "1                    0                    0                      1   \n",
       "2                    0                    1                      0   \n",
       "3                    0                    0                      1   \n",
       "4                    0                    0                      0   \n",
       "\n",
       "   resting_ekg_results_1  resting_ekg_results_2  exercise_induced_angina_0  \\\n",
       "0                      0                      1                          1   \n",
       "1                      0                      0                          1   \n",
       "2                      0                      1                          0   \n",
       "3                      0                      0                          1   \n",
       "4                      0                      1                          1   \n",
       "\n",
       "   exercise_induced_angina_1  fasting_blood_sugar_gt_120_mg_per_dl_0  \\\n",
       "0                          0                                       1   \n",
       "1                          0                                       1   \n",
       "2                          1                                       1   \n",
       "3                          0                                       1   \n",
       "4                          0                                       1   \n",
       "\n",
       "   fasting_blood_sugar_gt_120_mg_per_dl_1  \n",
       "0                                       0  \n",
       "1                                       0  \n",
       "2                                       0  \n",
       "3                                       0  \n",
       "4                                       0  \n",
       "\n",
       "[5 rows x 34 columns]"
      ]
     },
     "execution_count": 9,
     "metadata": {},
     "output_type": "execute_result"
    }
   ],
   "source": [
    "heart_df_D=pd.get_dummies(heart_df, columns=['AgeGroup','thal','slope_of_peak_exercise_st_segment','chest_pain_type','num_major_vessels','resting_ekg_results','exercise_induced_angina','fasting_blood_sugar_gt_120_mg_per_dl'])\n",
    "heart_df_D.head()"
   ]
  },
  {
   "cell_type": "markdown",
   "metadata": {},
   "source": [
    "#### El primer sera veure el XGB classifier si funciona be o no, tal qual"
   ]
  },
  {
   "cell_type": "code",
   "execution_count": 10,
   "metadata": {},
   "outputs": [],
   "source": [
    "# seleccionem les features que utilitzarem, important eliminar patient_id i heart_disease\n",
    "features_D = heart_df_D.columns.tolist()\n",
    "features_D.remove('heart_disease_present')\n",
    "features_D.remove('patient_id')\n",
    "\n",
    "# load data\n",
    "df_Heart_train=heart_df_D[:len_train]\n",
    "df_Heart_test=heart_df_D[len_train:]\n",
    "X=df_Heart_train[features_D]\n",
    "y=df_Heart_train['heart_disease_present']"
   ]
  },
  {
   "cell_type": "code",
   "execution_count": 11,
   "metadata": {},
   "outputs": [
    {
     "name": "stdout",
     "output_type": "stream",
     "text": [
      "Log loss: -0.41% (0.09%)\n"
     ]
    }
   ],
   "source": [
    "# k-fold cross validation evaluation of xgboost model\n",
    "from sklearn.model_selection import KFold\n",
    "from sklearn.model_selection import cross_val_score\n",
    "\n",
    "from xgboost import XGBClassifier\n",
    "from xgboost import plot_importance\n",
    "\n",
    "# CV model\n",
    "model = XGBClassifier(colsample_bytree=0.1,n_estimators=500, reg_lambda=1, learning_rate=0.09, min_child_weight = 2, max_depth = 8, gamma=2, subsample=.2,scale_pos_weight = 1, eval_metric='logloss',reg_alpha=0.00001)\n",
    "kfold = KFold(n_splits=10, random_state=7)\n",
    "\n",
    "results = cross_val_score(model, X, y, cv=kfold, scoring='neg_log_loss', )\n",
    "print(\"Log loss: %.2f%% (%.2f%%)\" % (results.mean(), results.std()))"
   ]
  },
  {
   "cell_type": "markdown",
   "metadata": {},
   "source": [
    "Els reusltats no son dolents, amb un log loss al voltant de 0.43.... pero hem de millorar!!!"
   ]
  },
  {
   "cell_type": "markdown",
   "metadata": {},
   "source": [
    "#### Feature Importance using Gradient Boosting\n",
    "Fem un primer test de com es tracta en el Gradient Boosting el Feature Importance.\n",
    "Basicament apliquem el model sobre les dades, i despres utilitzam el plot_importance del mateix xgboost per veure classificacio features mes important.\n",
    "L'analisi no es senzill, i de fet pots veure diferents tipus d'importancies (no ho acabo de pillar). el mes interessant es que aixo ens permetra seleccionar features en funcio d'un threshold, i aixo ens permetrà veure resultast de models diferents optimitzant les features seleccionades"
   ]
  },
  {
   "cell_type": "code",
   "execution_count": 12,
   "metadata": {},
   "outputs": [
    {
     "data": {
      "image/png": "[encoded data removed]",
      "text/plain": [
       "<Figure size 864x864 with 1 Axes>"
      ]
     },
     "metadata": {},
     "output_type": "display_data"
    }
   ],
   "source": [
    "# plot feature importance using built-in function\n",
    "#!pip install xgboost\n",
    "\n",
    "\n",
    "\n",
    "# fit model no training data\n",
    "model.fit(X, y)\n",
    "\n",
    "# plot feature importance\n",
    "\n",
    "_, ax = plt.subplots(1, 1, figsize=(12, 12))\n",
    "plot_importance(model, ax=ax, importance_type='gain',max_num_features=34);\n",
    "plt.show()"
   ]
  },
  {
   "cell_type": "markdown",
   "metadata": {},
   "source": [
    "Aqui ja es veuen coses interessants, pero es dificil triar de forma manual a partir de quin fetaure tindrem millors resultats.\n",
    "utilitzarem eines del model per fer aquesta seleccio..."
   ]
  },
  {
   "cell_type": "markdown",
   "metadata": {},
   "source": [
    "#### Aqui fem el Preprocessing i generem arrays que farem servir pel model despres"
   ]
  },
  {
   "cell_type": "code",
   "execution_count": 13,
   "metadata": {},
   "outputs": [
    {
     "name": "stdout",
     "output_type": "stream",
     "text": [
      "(180, 32)\n",
      "(180, 560)\n",
      "(180, 529)\n"
     ]
    }
   ],
   "source": [
    "import sklearn.preprocessing as preproc\n",
    "\n",
    "# Create pairwise interaction features, skipping the constant bias term\n",
    "X2_train = preproc.PolynomialFeatures(include_bias=False).fit_transform(X)\n",
    "X2b_train = preproc.PolynomialFeatures(include_bias=True).fit_transform(X)\n",
    "X3_train = preproc.PolynomialFeatures(interaction_only=True, degree=2).fit_transform(X)\n",
    "\n",
    "print (X.shape)\n",
    "print (X2_train.shape)\n",
    "print (X3_train.shape)"
   ]
  },
  {
   "cell_type": "markdown",
   "metadata": {},
   "source": [
    "#### Feature Engineering and Reduction:\n",
    "Aqui comença la part xula: ara aplicarem el model (ja definit abans), sobre els datasets modificats (Polynomial fetaures), a la vegada que seleccionem nomes les fetaures que estiguin per sobre d'un llindar.\n",
    "\n",
    "Aqui, el llindar que marca el **threshold es molt sensible**: petites variacions optimitzen resultats!"
   ]
  },
  {
   "cell_type": "code",
   "execution_count": 115,
   "metadata": {},
   "outputs": [],
   "source": [
    "from sklearn.model_selection import train_test_split\n",
    "from sklearn.metrics import accuracy_score\n",
    "from sklearn.feature_selection import SelectFromModel\n",
    "\n",
    "\n",
    "# split data into train and test sets\n",
    "X_train, X_test, y_train, y_test = train_test_split(X3_train, y, test_size=0.2, random_state=10)\n",
    "\n",
    "# select features using threshold\n",
    "model.fit(X_train,y_train)\n",
    "selection = SelectFromModel(model, threshold=0.009, prefit=True)\n",
    "select_X_train = selection.transform(X_train)\n",
    "\n",
    "# train model\n",
    "selection_model = XGBClassifier(colsample_bytree=0.1,n_estimators=600, reg_lambda=1, learning_rate=0.095, min_child_weight = 2, max_depth = 4, gamma=1.8, subsample=.2,scale_pos_weight = 1, eval_metric='logloss',reg_alpha=0.00001)\n",
    "selection_model.fit(select_X_train, y_train)\n",
    "\n",
    "# eval model\n",
    "select_X_test = selection.transform(X_test)\n",
    "y_pred = selection_model.predict(select_X_test)\n",
    "y_proba = selection_model.predict_proba(select_X_test)"
   ]
  },
  {
   "cell_type": "markdown",
   "metadata": {},
   "source": [
    "La primera submission esta feta amb threshold de 0.01, pero he vist que amb 0.009 encara millora 2 decimes, provar-ho demà"
   ]
  },
  {
   "cell_type": "markdown",
   "metadata": {},
   "source": [
    "##### Aqui validem els resultats i mirem quin accuracy i log_score tenim"
   ]
  },
  {
   "cell_type": "code",
   "execution_count": 116,
   "metadata": {},
   "outputs": [
    {
     "name": "stdout",
     "output_type": "stream",
     "text": [
      "0.8888888888888888\n",
      "0.3086694294793738\n"
     ]
    }
   ],
   "source": [
    "from sklearn.metrics import accuracy_score, log_loss\n",
    "\n",
    "accuracy = accuracy_score(y_test, y_pred)\n",
    "print(accuracy)\n",
    "\n",
    "logi = log_loss(y_test, y_proba)\n",
    "print(logi)"
   ]
  },
  {
   "cell_type": "markdown",
   "metadata": {},
   "source": [
    "Els resultats son molt bons, en alguns casos estem a voltant de correlacions de 0.86-88 i log-log de 0.26. Hem de veure si a drivendata aixo ens permet arribar a 0.3."
   ]
  },
  {
   "cell_type": "markdown",
   "metadata": {},
   "source": [
    "#### Preparem el model per la submission"
   ]
  },
  {
   "cell_type": "code",
   "execution_count": 120,
   "metadata": {},
   "outputs": [
    {
     "ename": "NameError",
     "evalue": "name 'selection_model' is not defined",
     "output_type": "error",
     "traceback": [
      "\u001b[1;31m---------------------------------------------------------------------------\u001b[0m",
      "\u001b[1;31mNameError\u001b[0m                                 Traceback (most recent call last)",
      "\u001b[1;32m<ipython-input-120-09b065a6c32c>\u001b[0m in \u001b[0;36m<module>\u001b[1;34m()\u001b[0m\n\u001b[1;32m----> 1\u001b[1;33m \u001b[1;32mdel\u001b[0m \u001b[0mselection\u001b[0m\u001b[1;33m,\u001b[0m \u001b[0mselection_model\u001b[0m\u001b[1;33m,\u001b[0m \u001b[0mselect_X_test\u001b[0m\u001b[1;33m,\u001b[0m \u001b[0mX_test\u001b[0m\u001b[1;33m\u001b[0m\u001b[0m\n\u001b[0m",
      "\u001b[1;31mNameError\u001b[0m: name 'selection_model' is not defined"
     ]
    }
   ],
   "source": [
    "del selection, selection_model, select_X_test, X_test"
   ]
  },
  {
   "cell_type": "markdown",
   "metadata": {},
   "source": [
    "Preparem les dades de test igual que hem fet amb les de training (polynomial feature)"
   ]
  },
  {
   "cell_type": "code",
   "execution_count": 122,
   "metadata": {},
   "outputs": [],
   "source": [
    "X_test=df_Heart_test.drop(columns=['patient_id','heart_disease_present'])\n",
    "X2_test = preproc.PolynomialFeatures(include_bias=False).fit_transform(X_test)\n",
    "X3_test = preproc.PolynomialFeatures(interaction_only=True, degree=2).fit_transform(X_test)"
   ]
  },
  {
   "cell_type": "markdown",
   "metadata": {},
   "source": [
    "#### Entrenem model, fem feature selection i fem una prediccio"
   ]
  },
  {
   "cell_type": "code",
   "execution_count": 123,
   "metadata": {},
   "outputs": [],
   "source": [
    "# model fit\n",
    "model.fit(X3_train,y)\n",
    "\n",
    "# feature selection\n",
    "selection = SelectFromModel(model, threshold=0.009, prefit=True)\n",
    "select_X = selection.transform(X3_train)\n",
    "\n",
    "# train model\n",
    "selection_model =XGBClassifier(colsample_bytree=0.1,n_estimators=600, reg_lambda=1, learning_rate=0.095, min_child_weight = 2, max_depth = 4, gamma=1.8, subsample=.2,scale_pos_weight = 1, eval_metric='logloss',reg_alpha=0.00001)\n",
    "selection_model.fit(select_X, y)\n",
    "\n",
    "# eval model\n",
    "select_X_test = selection.transform(X3_test)\n",
    "y_pred = selection_model.predict(select_X_test)\n",
    "y_proba = selection_model.predict_proba(select_X_test)"
   ]
  },
  {
   "cell_type": "markdown",
   "metadata": {},
   "source": [
    "#### preparem submission"
   ]
  },
  {
   "cell_type": "code",
   "execution_count": 124,
   "metadata": {},
   "outputs": [],
   "source": [
    "targets = train_labels_df['heart_disease_present'].unique()\n",
    "predictions = pd.DataFrame()\n",
    "# Record each prediction for each class as a separate column\n",
    "for j in range(len(targets)):\n",
    "    predictions[j] = y_proba[:,j]\n",
    "    \n",
    "# Add needed information for predictions \n",
    "predictions['patient_id'] = test_ids\n",
    "\n",
    "# Find the class and associated probability\n",
    "predictions['heart_disease_present'] = predictions[targets].idxmax(axis = 1)\n",
    "predictions['confidence'] = predictions[targets].max(axis = 1)\n",
    "\n",
    "submission= predictions[['patient_id',1]]\n",
    "submission.columns = ['patient_id','heart_disease_present']"
   ]
  },
  {
   "cell_type": "code",
   "execution_count": 125,
   "metadata": {},
   "outputs": [],
   "source": [
    "submission.to_csv('Pablo_submission8.csv',index=False)"
   ]
  },
  {
   "cell_type": "code",
   "execution_count": null,
   "metadata": {},
   "outputs": [],
   "source": []
  }
 ],
 "metadata": {
  "kernelspec": {
   "display_name": "Python 3",
   "language": "python",
   "name": "python3"
  },
  "language_info": {
   "codemirror_mode": {
    "name": "ipython",
    "version": 3
   },
   "file_extension": ".py",
   "mimetype": "text/x-python",
   "name": "python",
   "nbconvert_exporter": "python",
   "pygments_lexer": "ipython3",
   "version": "3.6.5"
  }
 },
 "nbformat": 4,
 "nbformat_minor": 2
}
