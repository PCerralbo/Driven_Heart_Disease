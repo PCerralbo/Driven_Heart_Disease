{
 "cells": [
  {
   "cell_type": "markdown",
   "metadata": {},
   "source": [
    "# Submission score ... (PCA)\n",
    "\n",
    "A grans trets:\n"
   ]
  },
  {
   "cell_type": "code",
   "execution_count": 20,
   "metadata": {},
   "outputs": [],
   "source": [
    "# Import essentials\n",
    "import numpy as np # linear algebra\n",
    "import pandas as pd # data processing, CSV file I/O (e.g. pd.read_csv)\n",
    "import matplotlib.pyplot as plt\n",
    "import os\n",
    "import seaborn as sns\n",
    "import warnings\n",
    "\n",
    "warnings.filterwarnings('ignore')"
   ]
  },
  {
   "cell_type": "markdown",
   "metadata": {},
   "source": [
    "The train values, train labels and test values are in different datasets, **we will load evrything and merge it together in the same dataframe (with label = NaN for the test)**. In that way, all the treatment (means, outliers, ...) we do would be considering the entire dataset"
   ]
  },
  {
   "cell_type": "code",
   "execution_count": 21,
   "metadata": {},
   "outputs": [],
   "source": [
    "# load the csv\n",
    "train_values_df = pd.read_csv('train_values.csv') # Load the `train` file\n",
    "train_labels_df = pd.read_csv('train_labels.csv') # Load the `train` file\n",
    "test_values_df = pd.read_csv('test_values.csv') # Load the `train` file\n",
    "test_ids = test_values_df['patient_id']"
   ]
  },
  {
   "cell_type": "markdown",
   "metadata": {},
   "source": [
    "de l'analisi dels histogrames hem vist que hi havien dues variables amb algunes diferencies entre train i test set:\n",
    "1. serum_cholesterol_mg_per_dl\n",
    "2. oldpeak_eq_st_depression"
   ]
  },
  {
   "cell_type": "code",
   "execution_count": 22,
   "metadata": {},
   "outputs": [
    {
     "data": {
      "text/html": [
       "<div>\n",
       "<style scoped>\n",
       "    .dataframe tbody tr th:only-of-type {\n",
       "        vertical-align: middle;\n",
       "    }\n",
       "\n",
       "    .dataframe tbody tr th {\n",
       "        vertical-align: top;\n",
       "    }\n",
       "\n",
       "    .dataframe thead th {\n",
       "        text-align: right;\n",
       "    }\n",
       "</style>\n",
       "<table border=\"1\" class=\"dataframe\">\n",
       "  <thead>\n",
       "    <tr style=\"text-align: right;\">\n",
       "      <th></th>\n",
       "      <th>patient_id</th>\n",
       "      <th>slope_of_peak_exercise_st_segment</th>\n",
       "      <th>thal</th>\n",
       "      <th>resting_blood_pressure</th>\n",
       "      <th>chest_pain_type</th>\n",
       "      <th>num_major_vessels</th>\n",
       "      <th>fasting_blood_sugar_gt_120_mg_per_dl</th>\n",
       "      <th>resting_ekg_results</th>\n",
       "      <th>serum_cholesterol_mg_per_dl</th>\n",
       "      <th>oldpeak_eq_st_depression</th>\n",
       "      <th>sex</th>\n",
       "      <th>age</th>\n",
       "      <th>max_heart_rate_achieved</th>\n",
       "      <th>exercise_induced_angina</th>\n",
       "    </tr>\n",
       "  </thead>\n",
       "  <tbody>\n",
       "    <tr>\n",
       "      <th>60</th>\n",
       "      <td>rv6siv</td>\n",
       "      <td>2</td>\n",
       "      <td>reversible_defect</td>\n",
       "      <td>115</td>\n",
       "      <td>3</td>\n",
       "      <td>0</td>\n",
       "      <td>0</td>\n",
       "      <td>2</td>\n",
       "      <td>564</td>\n",
       "      <td>1.6</td>\n",
       "      <td>0</td>\n",
       "      <td>67</td>\n",
       "      <td>160</td>\n",
       "      <td>0</td>\n",
       "    </tr>\n",
       "  </tbody>\n",
       "</table>\n",
       "</div>"
      ],
      "text/plain": [
       "   patient_id  slope_of_peak_exercise_st_segment               thal  \\\n",
       "60     rv6siv                                  2  reversible_defect   \n",
       "\n",
       "    resting_blood_pressure  chest_pain_type  num_major_vessels  \\\n",
       "60                     115                3                  0   \n",
       "\n",
       "    fasting_blood_sugar_gt_120_mg_per_dl  resting_ekg_results  \\\n",
       "60                                     0                    2   \n",
       "\n",
       "    serum_cholesterol_mg_per_dl  oldpeak_eq_st_depression  sex  age  \\\n",
       "60                          564                       1.6    0   67   \n",
       "\n",
       "    max_heart_rate_achieved  exercise_induced_angina  \n",
       "60                      160                        0  "
      ]
     },
     "execution_count": 22,
     "metadata": {},
     "output_type": "execute_result"
    }
   ],
   "source": [
    "train_values_df[train_values_df['serum_cholesterol_mg_per_dl']>500]"
   ]
  },
  {
   "cell_type": "code",
   "execution_count": 23,
   "metadata": {},
   "outputs": [
    {
     "data": {
      "text/html": [
       "<div>\n",
       "<style scoped>\n",
       "    .dataframe tbody tr th:only-of-type {\n",
       "        vertical-align: middle;\n",
       "    }\n",
       "\n",
       "    .dataframe tbody tr th {\n",
       "        vertical-align: top;\n",
       "    }\n",
       "\n",
       "    .dataframe thead th {\n",
       "        text-align: right;\n",
       "    }\n",
       "</style>\n",
       "<table border=\"1\" class=\"dataframe\">\n",
       "  <thead>\n",
       "    <tr style=\"text-align: right;\">\n",
       "      <th></th>\n",
       "      <th>patient_id</th>\n",
       "      <th>slope_of_peak_exercise_st_segment</th>\n",
       "      <th>thal</th>\n",
       "      <th>resting_blood_pressure</th>\n",
       "      <th>chest_pain_type</th>\n",
       "      <th>num_major_vessels</th>\n",
       "      <th>fasting_blood_sugar_gt_120_mg_per_dl</th>\n",
       "      <th>resting_ekg_results</th>\n",
       "      <th>serum_cholesterol_mg_per_dl</th>\n",
       "      <th>oldpeak_eq_st_depression</th>\n",
       "      <th>sex</th>\n",
       "      <th>age</th>\n",
       "      <th>max_heart_rate_achieved</th>\n",
       "      <th>exercise_induced_angina</th>\n",
       "    </tr>\n",
       "  </thead>\n",
       "  <tbody>\n",
       "    <tr>\n",
       "      <th>140</th>\n",
       "      <td>noxsnw</td>\n",
       "      <td>3</td>\n",
       "      <td>reversible_defect</td>\n",
       "      <td>140</td>\n",
       "      <td>4</td>\n",
       "      <td>0</td>\n",
       "      <td>0</td>\n",
       "      <td>0</td>\n",
       "      <td>217</td>\n",
       "      <td>5.6</td>\n",
       "      <td>1</td>\n",
       "      <td>55</td>\n",
       "      <td>111</td>\n",
       "      <td>1</td>\n",
       "    </tr>\n",
       "    <tr>\n",
       "      <th>162</th>\n",
       "      <td>usnkhx</td>\n",
       "      <td>3</td>\n",
       "      <td>reversible_defect</td>\n",
       "      <td>160</td>\n",
       "      <td>4</td>\n",
       "      <td>3</td>\n",
       "      <td>0</td>\n",
       "      <td>2</td>\n",
       "      <td>164</td>\n",
       "      <td>6.2</td>\n",
       "      <td>0</td>\n",
       "      <td>62</td>\n",
       "      <td>145</td>\n",
       "      <td>0</td>\n",
       "    </tr>\n",
       "  </tbody>\n",
       "</table>\n",
       "</div>"
      ],
      "text/plain": [
       "    patient_id  slope_of_peak_exercise_st_segment               thal  \\\n",
       "140     noxsnw                                  3  reversible_defect   \n",
       "162     usnkhx                                  3  reversible_defect   \n",
       "\n",
       "     resting_blood_pressure  chest_pain_type  num_major_vessels  \\\n",
       "140                     140                4                  0   \n",
       "162                     160                4                  3   \n",
       "\n",
       "     fasting_blood_sugar_gt_120_mg_per_dl  resting_ekg_results  \\\n",
       "140                                     0                    0   \n",
       "162                                     0                    2   \n",
       "\n",
       "     serum_cholesterol_mg_per_dl  oldpeak_eq_st_depression  sex  age  \\\n",
       "140                          217                       5.6    1   55   \n",
       "162                          164                       6.2    0   62   \n",
       "\n",
       "     max_heart_rate_achieved  exercise_induced_angina  \n",
       "140                      111                        1  \n",
       "162                      145                        0  "
      ]
     },
     "execution_count": 23,
     "metadata": {},
     "output_type": "execute_result"
    }
   ],
   "source": [
    "train_values_df[train_values_df['oldpeak_eq_st_depression'] > 5]"
   ]
  },
  {
   "cell_type": "markdown",
   "metadata": {},
   "source": [
    "#### Provem d'eliminar pacients que te outlier amb serum de colesterol\n",
    "hauriem de mirar si eliminant el de oldpeak tb millorem algo"
   ]
  },
  {
   "cell_type": "code",
   "execution_count": 24,
   "metadata": {},
   "outputs": [],
   "source": [
    "train_values_df=train_values_df.drop([60])\n",
    "train_labels_df=train_labels_df.drop([60])"
   ]
  },
  {
   "cell_type": "markdown",
   "metadata": {},
   "source": [
    "merge and concat the dataframes in one (NaNs for the test label)"
   ]
  },
  {
   "cell_type": "code",
   "execution_count": 25,
   "metadata": {},
   "outputs": [],
   "source": [
    "heart_df= pd.concat([pd.merge(train_values_df, train_labels_df, on='patient_id'), test_values_df], sort=False)\n",
    "heart_df.head()\n",
    "\n",
    "#store the original dimensions\n",
    "len_train=train_values_df.shape[0]\n",
    "len_test=test_values_df.shape[0]"
   ]
  },
  {
   "cell_type": "markdown",
   "metadata": {},
   "source": [
    "Curiositat per l'edat, es veuen distribucions molt diferents?"
   ]
  },
  {
   "cell_type": "code",
   "execution_count": 26,
   "metadata": {},
   "outputs": [
    {
     "data": {
      "image/png": "[encoded data removed]",
      "text/plain": [
       "<Figure size 432x288 with 1 Axes>"
      ]
     },
     "metadata": {},
     "output_type": "display_data"
    }
   ],
   "source": [
    "heart_df.pivot(columns='heart_disease_present').age.plot(kind = 'hist', bins=10, stacked=True)\n",
    "plt.title('Age')\n",
    "plt.show()"
   ]
  },
  {
   "cell_type": "markdown",
   "metadata": {},
   "source": [
    "#### Pre-Processing: estandaritzem utilitzant el MinMaxScaler"
   ]
  },
  {
   "cell_type": "code",
   "execution_count": 27,
   "metadata": {},
   "outputs": [],
   "source": [
    "from sklearn import preprocessing\n",
    "min_max_scaler = preprocessing.MinMaxScaler()\n",
    "\n",
    "heart_df['serum_cholesterol_mg_per_dl'] = min_max_scaler.fit_transform( np.array(heart_df['serum_cholesterol_mg_per_dl'].values).reshape(-1,1))\n",
    "heart_df['max_heart_rate_achieved'] = min_max_scaler.fit_transform( np.array(heart_df['max_heart_rate_achieved'].values).reshape(-1,1))\n",
    "heart_df['oldpeak_eq_st_depression'] = min_max_scaler.fit_transform( np.array(heart_df['oldpeak_eq_st_depression'].values).reshape(-1,1))\n",
    "heart_df['resting_blood_pressure'] = min_max_scaler.fit_transform( np.array(heart_df['resting_blood_pressure'].values).reshape(-1,1))"
   ]
  },
  {
   "cell_type": "markdown",
   "metadata": {},
   "source": [
    "#### Categoritzem les edats\n",
    "Podriem probar de fer un MinMAx tb..."
   ]
  },
  {
   "cell_type": "code",
   "execution_count": 28,
   "metadata": {},
   "outputs": [
    {
     "data": {
      "text/plain": [
       "50-59    107\n",
       "60-69     73\n",
       "40-49     67\n",
       "30-39     11\n",
       "70-79     10\n",
       "20-29      1\n",
       "Name: AgeGroup, dtype: int64"
      ]
     },
     "execution_count": 28,
     "metadata": {},
     "output_type": "execute_result"
    }
   ],
   "source": [
    "# en aquest bloc definim una columna categoritzant les edats\n",
    "bins= [20,30,40,50,60,70,80]\n",
    "labels = ['20-29','30-39','40-49','50-59','60-69','70-79']\n",
    "heart_df['AgeGroup'] = pd.cut(heart_df['age'], bins=bins, labels=labels, right=False)\n",
    "del heart_df['age']\n",
    "pd.value_counts(heart_df['AgeGroup'])"
   ]
  },
  {
   "cell_type": "markdown",
   "metadata": {},
   "source": [
    "##### utilitzem funcio Dummies per resta variables i la nova d'age"
   ]
  },
  {
   "cell_type": "code",
   "execution_count": 29,
   "metadata": {},
   "outputs": [
    {
     "data": {
      "text/html": [
       "<div>\n",
       "<style scoped>\n",
       "    .dataframe tbody tr th:only-of-type {\n",
       "        vertical-align: middle;\n",
       "    }\n",
       "\n",
       "    .dataframe tbody tr th {\n",
       "        vertical-align: top;\n",
       "    }\n",
       "\n",
       "    .dataframe thead th {\n",
       "        text-align: right;\n",
       "    }\n",
       "</style>\n",
       "<table border=\"1\" class=\"dataframe\">\n",
       "  <thead>\n",
       "    <tr style=\"text-align: right;\">\n",
       "      <th></th>\n",
       "      <th>patient_id</th>\n",
       "      <th>resting_blood_pressure</th>\n",
       "      <th>serum_cholesterol_mg_per_dl</th>\n",
       "      <th>oldpeak_eq_st_depression</th>\n",
       "      <th>sex</th>\n",
       "      <th>max_heart_rate_achieved</th>\n",
       "      <th>heart_disease_present</th>\n",
       "      <th>AgeGroup_20-29</th>\n",
       "      <th>AgeGroup_30-39</th>\n",
       "      <th>AgeGroup_40-49</th>\n",
       "      <th>...</th>\n",
       "      <th>num_major_vessels_1</th>\n",
       "      <th>num_major_vessels_2</th>\n",
       "      <th>num_major_vessels_3</th>\n",
       "      <th>resting_ekg_results_0</th>\n",
       "      <th>resting_ekg_results_1</th>\n",
       "      <th>resting_ekg_results_2</th>\n",
       "      <th>exercise_induced_angina_0</th>\n",
       "      <th>exercise_induced_angina_1</th>\n",
       "      <th>fasting_blood_sugar_gt_120_mg_per_dl_0</th>\n",
       "      <th>fasting_blood_sugar_gt_120_mg_per_dl_1</th>\n",
       "    </tr>\n",
       "  </thead>\n",
       "  <tbody>\n",
       "    <tr>\n",
       "      <th>0</th>\n",
       "      <td>0z64un</td>\n",
       "      <td>0.320755</td>\n",
       "      <td>0.625430</td>\n",
       "      <td>0.000000</td>\n",
       "      <td>1</td>\n",
       "      <td>0.755725</td>\n",
       "      <td>0.0</td>\n",
       "      <td>0</td>\n",
       "      <td>0</td>\n",
       "      <td>1</td>\n",
       "      <td>...</td>\n",
       "      <td>0</td>\n",
       "      <td>0</td>\n",
       "      <td>0</td>\n",
       "      <td>0</td>\n",
       "      <td>0</td>\n",
       "      <td>1</td>\n",
       "      <td>1</td>\n",
       "      <td>0</td>\n",
       "      <td>1</td>\n",
       "      <td>0</td>\n",
       "    </tr>\n",
       "    <tr>\n",
       "      <th>1</th>\n",
       "      <td>ryoo3j</td>\n",
       "      <td>0.150943</td>\n",
       "      <td>0.302405</td>\n",
       "      <td>0.258065</td>\n",
       "      <td>0</td>\n",
       "      <td>0.664122</td>\n",
       "      <td>0.0</td>\n",
       "      <td>0</td>\n",
       "      <td>0</td>\n",
       "      <td>0</td>\n",
       "      <td>...</td>\n",
       "      <td>0</td>\n",
       "      <td>0</td>\n",
       "      <td>0</td>\n",
       "      <td>1</td>\n",
       "      <td>0</td>\n",
       "      <td>0</td>\n",
       "      <td>1</td>\n",
       "      <td>0</td>\n",
       "      <td>1</td>\n",
       "      <td>0</td>\n",
       "    </tr>\n",
       "    <tr>\n",
       "      <th>2</th>\n",
       "      <td>yt1s1x</td>\n",
       "      <td>0.292453</td>\n",
       "      <td>0.611684</td>\n",
       "      <td>0.000000</td>\n",
       "      <td>1</td>\n",
       "      <td>0.694656</td>\n",
       "      <td>1.0</td>\n",
       "      <td>0</td>\n",
       "      <td>0</td>\n",
       "      <td>0</td>\n",
       "      <td>...</td>\n",
       "      <td>0</td>\n",
       "      <td>0</td>\n",
       "      <td>1</td>\n",
       "      <td>0</td>\n",
       "      <td>0</td>\n",
       "      <td>1</td>\n",
       "      <td>0</td>\n",
       "      <td>1</td>\n",
       "      <td>1</td>\n",
       "      <td>0</td>\n",
       "    </tr>\n",
       "    <tr>\n",
       "      <th>3</th>\n",
       "      <td>l2xjde</td>\n",
       "      <td>0.547170</td>\n",
       "      <td>0.333333</td>\n",
       "      <td>0.000000</td>\n",
       "      <td>1</td>\n",
       "      <td>0.839695</td>\n",
       "      <td>1.0</td>\n",
       "      <td>0</td>\n",
       "      <td>0</td>\n",
       "      <td>1</td>\n",
       "      <td>...</td>\n",
       "      <td>0</td>\n",
       "      <td>0</td>\n",
       "      <td>0</td>\n",
       "      <td>1</td>\n",
       "      <td>0</td>\n",
       "      <td>0</td>\n",
       "      <td>1</td>\n",
       "      <td>0</td>\n",
       "      <td>1</td>\n",
       "      <td>0</td>\n",
       "    </tr>\n",
       "    <tr>\n",
       "      <th>4</th>\n",
       "      <td>oyt4ek</td>\n",
       "      <td>0.792453</td>\n",
       "      <td>0.494845</td>\n",
       "      <td>0.677419</td>\n",
       "      <td>1</td>\n",
       "      <td>0.564885</td>\n",
       "      <td>0.0</td>\n",
       "      <td>0</td>\n",
       "      <td>0</td>\n",
       "      <td>0</td>\n",
       "      <td>...</td>\n",
       "      <td>0</td>\n",
       "      <td>0</td>\n",
       "      <td>0</td>\n",
       "      <td>0</td>\n",
       "      <td>0</td>\n",
       "      <td>1</td>\n",
       "      <td>1</td>\n",
       "      <td>0</td>\n",
       "      <td>1</td>\n",
       "      <td>0</td>\n",
       "    </tr>\n",
       "  </tbody>\n",
       "</table>\n",
       "<p>5 rows × 34 columns</p>\n",
       "</div>"
      ],
      "text/plain": [
       "  patient_id  resting_blood_pressure  serum_cholesterol_mg_per_dl  \\\n",
       "0     0z64un                0.320755                     0.625430   \n",
       "1     ryoo3j                0.150943                     0.302405   \n",
       "2     yt1s1x                0.292453                     0.611684   \n",
       "3     l2xjde                0.547170                     0.333333   \n",
       "4     oyt4ek                0.792453                     0.494845   \n",
       "\n",
       "   oldpeak_eq_st_depression  sex  max_heart_rate_achieved  \\\n",
       "0                  0.000000    1                 0.755725   \n",
       "1                  0.258065    0                 0.664122   \n",
       "2                  0.000000    1                 0.694656   \n",
       "3                  0.000000    1                 0.839695   \n",
       "4                  0.677419    1                 0.564885   \n",
       "\n",
       "   heart_disease_present  AgeGroup_20-29  AgeGroup_30-39  AgeGroup_40-49  \\\n",
       "0                    0.0               0               0               1   \n",
       "1                    0.0               0               0               0   \n",
       "2                    1.0               0               0               0   \n",
       "3                    1.0               0               0               1   \n",
       "4                    0.0               0               0               0   \n",
       "\n",
       "                    ...                    num_major_vessels_1  \\\n",
       "0                   ...                                      0   \n",
       "1                   ...                                      0   \n",
       "2                   ...                                      0   \n",
       "3                   ...                                      0   \n",
       "4                   ...                                      0   \n",
       "\n",
       "   num_major_vessels_2  num_major_vessels_3  resting_ekg_results_0  \\\n",
       "0                    0                    0                      0   \n",
       "1                    0                    0                      1   \n",
       "2                    0                    1                      0   \n",
       "3                    0                    0                      1   \n",
       "4                    0                    0                      0   \n",
       "\n",
       "   resting_ekg_results_1  resting_ekg_results_2  exercise_induced_angina_0  \\\n",
       "0                      0                      1                          1   \n",
       "1                      0                      0                          1   \n",
       "2                      0                      1                          0   \n",
       "3                      0                      0                          1   \n",
       "4                      0                      1                          1   \n",
       "\n",
       "   exercise_induced_angina_1  fasting_blood_sugar_gt_120_mg_per_dl_0  \\\n",
       "0                          0                                       1   \n",
       "1                          0                                       1   \n",
       "2                          1                                       1   \n",
       "3                          0                                       1   \n",
       "4                          0                                       1   \n",
       "\n",
       "   fasting_blood_sugar_gt_120_mg_per_dl_1  \n",
       "0                                       0  \n",
       "1                                       0  \n",
       "2                                       0  \n",
       "3                                       0  \n",
       "4                                       0  \n",
       "\n",
       "[5 rows x 34 columns]"
      ]
     },
     "execution_count": 29,
     "metadata": {},
     "output_type": "execute_result"
    }
   ],
   "source": [
    "heart_df_D=pd.get_dummies(heart_df, columns=['AgeGroup','thal','slope_of_peak_exercise_st_segment','chest_pain_type','num_major_vessels','resting_ekg_results','exercise_induced_angina','fasting_blood_sugar_gt_120_mg_per_dl'])\n",
    "heart_df_D.head()"
   ]
  },
  {
   "cell_type": "markdown",
   "metadata": {},
   "source": [
    "#### El primer sera veure el Bagging classifier si funciona be o no, tal qual"
   ]
  },
  {
   "cell_type": "code",
   "execution_count": 30,
   "metadata": {},
   "outputs": [],
   "source": [
    "# seleccionem les features que utilitzarem, important eliminar patient_id i heart_disease\n",
    "features_D = heart_df_D.columns.tolist()\n",
    "features_D.remove('heart_disease_present')\n",
    "features_D.remove('patient_id')\n",
    "\n",
    "# load data\n",
    "df_Heart_train=heart_df_D[:len_train]\n",
    "df_Heart_test=heart_df_D[len_train:]\n",
    "X=df_Heart_train[features_D]\n",
    "y=df_Heart_train['heart_disease_present']"
   ]
  },
  {
   "cell_type": "code",
   "execution_count": 34,
   "metadata": {},
   "outputs": [
    {
     "name": "stdout",
     "output_type": "stream",
     "text": [
      "Collecting lightgbm\n",
      "  Downloading https://files.pythonhosted.org/packages/00/37/a392e669a83fef72b916009c438a924d2a9d70bc8aea62662b207105ed98/lightgbm-2.2.3-py2.py3-none-win_amd64.whl (515kB)\n",
      "Requirement already satisfied: scipy in c:\\users\\pablo\\anaconda3\\lib\\site-packages (from lightgbm) (1.1.0)\n",
      "Requirement already satisfied: scikit-learn in c:\\users\\pablo\\anaconda3\\lib\\site-packages (from lightgbm) (0.20.3)\n",
      "Requirement already satisfied: numpy in c:\\users\\pablo\\anaconda3\\lib\\site-packages (from lightgbm) (1.16.3)\n",
      "Installing collected packages: lightgbm\n",
      "Successfully installed lightgbm-2.2.3\n"
     ]
    },
    {
     "name": "stderr",
     "output_type": "stream",
     "text": [
      "c:\\users\\pablo\\anaconda3\\lib\\site-packages\\pip\\_internal\\req\\req_install.py:391: UserWarning: Unbuilt egg for motu-client [unknown version] (c:\\users\\pablo\\anaconda3\\lib\\site-packages)\n",
      "  self.satisfied_by = pkg_resources.get_distribution(str(no_marker))\n",
      "You are using pip version 19.0.3, however version 19.1 is available.\n",
      "You should consider upgrading via the 'python -m pip install --upgrade pip' command.\n"
     ]
    }
   ],
   "source": [
    "!pip install lightgbm"
   ]
  },
  {
   "cell_type": "code",
   "execution_count": 44,
   "metadata": {},
   "outputs": [
    {
     "name": "stdout",
     "output_type": "stream",
     "text": [
      "[10]\tcv_agg's l1: 0.541787 + 0.00422688\n",
      "[20]\tcv_agg's l1: 0.541787 + 0.00422688\n",
      "[30]\tcv_agg's l1: 0.541787 + 0.00422688\n",
      "[40]\tcv_agg's l1: 0.541787 + 0.00422688\n",
      "Current parameters:\n",
      " {'max_bin': 10, 'boosting_type': 'gbdt', 'objective': 'regression', 'metric': 'l1', 'sub_feature': 0.5, 'bagging_fraction': 0.85, 'bagging_freq': 40, 'num_leaves': 512, 'min_data': 500, 'min_hessian': 0.05, 'verbose': 0}\n",
      "\n",
      "Best num_boost_round: 1\n",
      "Best CV score: 0.5417871017871017\n"
     ]
    }
   ],
   "source": [
    "# k-fold cross validation evaluation of xgboost model\n",
    "from sklearn.model_selection import KFold\n",
    "from sklearn.model_selection import cross_val_score\n",
    "from xgboost import XGBClassifier\n",
    "from xgboost import plot_importance\n",
    "from sklearn.linear_model import LinearRegression\n",
    "import lightgbm as lgb\n",
    "\n",
    "d_train = lgb.Dataset(X, label=y)\n",
    "\n",
    "params = {}\n",
    "params['max_bin'] = 10\n",
    "params['boosting_type'] = 'gbdt'\n",
    "params['objective'] = 'regression'\n",
    "params['metric'] = 'l1'          # or 'mae'\n",
    "params['sub_feature'] = 0.50      # feature_fraction \n",
    "params['bagging_fraction'] = 0.85 # sub_row\n",
    "params['bagging_freq'] = 40\n",
    "params['num_leaves'] = 512        # num_leaf\n",
    "params['min_data'] = 500         # min_data_in_leaf\n",
    "params['min_hessian'] = 0.05     # min_sum_hessian_in_leaf\n",
    "params['verbose'] = 0\n",
    "\n",
    "cv_results = lgb.cv(params, d_train,  \n",
    "                    verbose_eval=10, early_stopping_rounds=40)\n",
    "# CV model\n",
    "#model = XGBClassifier(colsample_bytree=0.1,n_estimators=500, reg_lambda=1, learning_rate=0.08, min_child_weight = 2, max_depth = 8, gamma=2, subsample=.2,scale_pos_weight = 1, eval_metric='logloss',reg_alpha=0.00001)\n",
    "#model= lgb.LGBMModel()\n",
    "#kfold = KFold(n_splits=10, random_state=7)\n",
    "\n",
    "#results = cross_val_score(model, X, y, cv=kfold, scoring='neg_log_loss', )\n",
    "#print(\"Log loss: %.2f%% (%.2f%%)\" % (results.mean(), results.std()))\n",
    "\n",
    "print('Current parameters:\\n', params)\n",
    "print('\\nBest num_boost_round:', len(cv_results['l1-mean']))\n",
    "print('Best CV score:', cv_results['l1-mean'][-1])"
   ]
  },
  {
   "cell_type": "code",
   "execution_count": null,
   "metadata": {},
   "outputs": [],
   "source": [
    " X_train, X_test, y_train, y_test = train_test_split(X, y, test_size=0.2, random_state=10)\n",
    "lgb.train(X_train,y_train)\n",
    "lgb."
   ]
  },
  {
   "cell_type": "code",
   "execution_count": null,
   "metadata": {},
   "outputs": [],
   "source": [
    "evaluation_results = {}\n",
    "clf = lgbm.train(train_set=train_data,\n",
    "                 params=lgbm_params,\n",
    "                 valid_sets=[train_data, test_data], \n",
    "                 valid_names=['Train', 'Test'],\n",
    "                 evals_result=evaluation_results,\n",
    "                 num_boost_round=500,\n",
    "                 early_stopping_rounds=100,\n",
    "                 verbose_eval=20\n",
    "                )\n",
    "optimum_boost_rounds = clf.best_iteration"
   ]
  },
  {
   "cell_type": "markdown",
   "metadata": {},
   "source": [
    "Els reusltats no son dolents, amb un log loss al voltant de 0.43.... pero hem de millorar!!!"
   ]
  },
  {
   "cell_type": "markdown",
   "metadata": {},
   "source": [
    "#### Feature Importance using Gradient Boosting\n",
    "Fem un primer test de com es tracta en el Gradient Boosting el Feature Importance.\n",
    "Basicament apliquem el model sobre les dades, i despres utilitzam el plot_importance del mateix xgboost per veure classificacio features mes important.\n",
    "L'analisi no es senzill, i de fet pots veure diferents tipus d'importancies (no ho acabo de pillar). el mes interessant es que aixo ens permetra seleccionar features en funcio d'un threshold, i aixo ens permetrà veure resultast de models diferents optimitzant les features seleccionades"
   ]
  },
  {
   "cell_type": "code",
   "execution_count": null,
   "metadata": {},
   "outputs": [],
   "source": [
    "# plot feature importance using built-in function\n",
    "#!pip install xgboost\n",
    "\n",
    "# fit model no training data\n",
    "model.fit(X, y)\n",
    "\n",
    "# plot feature importance\n",
    "\n",
    "_, ax = plt.subplots(1, 1, figsize=(12, 12))\n",
    "plot_importance(model, ax=ax, importance_type='gain',max_num_features=34);\n",
    "plt.show()"
   ]
  },
  {
   "cell_type": "markdown",
   "metadata": {},
   "source": [
    "Aqui ja es veuen coses interessants, pero es dificil triar de forma manual a partir de quin fetaure tindrem millors resultats.\n",
    "utilitzarem eines del model per fer aquesta seleccio..."
   ]
  },
  {
   "cell_type": "markdown",
   "metadata": {},
   "source": [
    "#### Aqui fem el Preprocessing i generem arrays que farem servir pel model despres"
   ]
  },
  {
   "cell_type": "code",
   "execution_count": null,
   "metadata": {},
   "outputs": [],
   "source": [
    "import sklearn.preprocessing as preproc\n",
    "from sklearn.decomposition import PCA\n",
    "# Create pairwise interaction features, skipping the constant bias term\n",
    "#X2_train = preproc.PolynomialFeatures(include_bias=False).fit_transform(X)\n",
    "#X2b_train = preproc.PolynomialFeatures(include_bias=True).fit_transform(X)\n",
    "#X3_train = preproc.PolynomialFeatures(interaction_only=True, degree=2).fit_transform(X)\n",
    "\n",
    "print (X.shape)\n",
    "#print (X2_train.shape)\n",
    "#print (X3_train.shape)"
   ]
  },
  {
   "cell_type": "code",
   "execution_count": null,
   "metadata": {},
   "outputs": [],
   "source": [
    "pca = PCA().fit(X)\n",
    "plt.plot(np.cumsum(pca.explained_variance_ratio_))\n",
    "plt.xlabel('number of components')\n",
    "plt.ylabel('cumulative explained variance');"
   ]
  },
  {
   "cell_type": "code",
   "execution_count": null,
   "metadata": {},
   "outputs": [],
   "source": [
    "from sklearn.model_selection import train_test_split\n",
    "from sklearn.metrics import accuracy_score\n",
    "from sklearn.metrics import accuracy_score, log_loss\n",
    "\n",
    "\n",
    "for i in range(1,30,1):\n",
    "    pca = PCA(i)\n",
    "    projected = pca.fit_transform(X)\n",
    "    projected_X2_train = preproc.PolynomialFeatures(include_bias=False).fit_transform(projected)\n",
    "    \n",
    "    X_train, X_test, y_train, y_test = train_test_split(projected, y, test_size=0.2, random_state=10)\n",
    "    X2_train, X2_test, y2_train, y2_test = train_test_split(projected_X2_train, y, test_size=0.2, random_state=10)\n",
    "\n",
    "    model.fit(X_train,y_train)\n",
    "    y_pred = model.predict(X_test)\n",
    "    y_proba = model.predict_proba(X_test)\n",
    "    \n",
    "    model.fit(X2_train,y2_train)\n",
    "    y2_pred = model.predict(X2_test)\n",
    "    y2_proba = model.predict_proba(X2_test)\n",
    "    \n",
    "    accuracy = accuracy_score(y_test, y_pred)\n",
    "    accuracy2 = accuracy_score(y2_test, y2_pred)\n",
    "    print('number of PCAs: ',i, 'and accuracy: ',accuracy )\n",
    "    print('number of PCAs: ',i, 'and accuracy: ',accuracy2 )\n",
    "\n",
    "    logi = log_loss(y_test, y_proba)\n",
    "    logi2 = log_loss(y2_test, y2_proba)\n",
    "    print('number of PCAs: ',i, 'and log loss: ',logi)\n",
    "    print('number of PCAs: ',i, 'and log loss: ',logi2,'\\n' )"
   ]
  },
  {
   "cell_type": "markdown",
   "metadata": {},
   "source": [
    "# La submission 9 es aquesta:\n",
    "\n",
    "X_total=heart_df_D[features_D]\n",
    "print (X_total.shape)\n",
    "\n",
    "X2_total = preproc.PolynomialFeatures(include_bias=False).fit_transform(X_total)\n",
    "\n",
    "pca = PCA(2)\n",
    "projected = pca.fit_transform(X2_total)\n",
    "\n",
    "projected_train=projected[:len_train]\n",
    "projected_test=projected[len_train:]\n",
    "\n",
    "print (projected_train.shape)\n",
    "print (projected_test.shape)\n",
    "\n",
    "\n",
    "# model fit\n",
    "model.fit(projected_train,y)\n",
    "\n",
    "# eval model\n",
    "y_pred = model.predict(projected_test)\n",
    "y_proba = model.predict_proba(projected_test)"
   ]
  },
  {
   "cell_type": "code",
   "execution_count": null,
   "metadata": {},
   "outputs": [],
   "source": [
    "# La submission 9b es aquesta:\n",
    "pca = PCA(2)\n",
    "X_total=heart_df_D[features_D]\n",
    "projected = pca.fit_transform(X_total)\n",
    "print (projected.shape)\n",
    "\n",
    "projected_train=projected[:len_train]\n",
    "projected_test=projected[len_train:]\n",
    "\n",
    "print (projected_train.shape)\n",
    "print (projected_test.shape)\n",
    "\n",
    "# model fit\n",
    "model.fit(projected_train,y)\n",
    "\n",
    "# eval model\n",
    "y_pred = model.predict(projected_test)\n",
    "y_proba = model.predict_proba(projected_test)"
   ]
  },
  {
   "cell_type": "markdown",
   "metadata": {},
   "source": [
    "#### preparem submission"
   ]
  },
  {
   "cell_type": "code",
   "execution_count": null,
   "metadata": {},
   "outputs": [],
   "source": [
    "targets = train_labels_df['heart_disease_present'].unique()\n",
    "predictions = pd.DataFrame()\n",
    "# Record each prediction for each class as a separate column\n",
    "for j in range(len(targets)):\n",
    "    predictions[j] = y_proba[:,j]\n",
    "    \n",
    "# Add needed information for predictions \n",
    "predictions['patient_id'] = test_ids\n",
    "\n",
    "# Find the class and associated probability\n",
    "predictions['heart_disease_present'] = predictions[targets].idxmax(axis = 1)\n",
    "predictions['confidence'] = predictions[targets].max(axis = 1)\n",
    "\n",
    "submission= predictions[['patient_id',1]]\n",
    "submission.columns = ['patient_id','heart_disease_present']"
   ]
  },
  {
   "cell_type": "code",
   "execution_count": null,
   "metadata": {},
   "outputs": [],
   "source": [
    "submission.to_csv('Pablo_submission9b.csv',index=False)"
   ]
  },
  {
   "cell_type": "code",
   "execution_count": null,
   "metadata": {},
   "outputs": [],
   "source": []
  }
 ],
 "metadata": {
  "kernelspec": {
   "display_name": "Python 3",
   "language": "python",
   "name": "python3"
  },
  "language_info": {
   "codemirror_mode": {
    "name": "ipython",
    "version": 3
   },
   "file_extension": ".py",
   "mimetype": "text/x-python",
   "name": "python",
   "nbconvert_exporter": "python",
   "pygments_lexer": "ipython3",
   "version": "3.6.5"
  }
 },
 "nbformat": 4,
 "nbformat_minor": 2
}
